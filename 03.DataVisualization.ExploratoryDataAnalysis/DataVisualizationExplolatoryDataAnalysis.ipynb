{
 "cells": [
  {
   "cell_type": "code",
   "execution_count": 5,
   "id": "008af9cd-84d0-4dfc-9a95-2f400e6c49db",
   "metadata": {},
   "outputs": [],
   "source": [
    "%matplotlib inline"
   ]
  },
  {
   "cell_type": "code",
   "execution_count": 6,
   "id": "5f91b3c0-7ef7-4676-8efc-742db90f0eff",
   "metadata": {},
   "outputs": [],
   "source": [
    "import numpy as np\n",
    "import pandas as pd\n",
    "import matplotlib.pyplot as plt"
   ]
  },
  {
   "cell_type": "markdown",
   "id": "70780fc3-1f27-4d3e-baaf-6e12dabe9fae",
   "metadata": {},
   "source": [
    "# Data Visualization. Explolatory Data Analysis."
   ]
  },
  {
   "cell_type": "markdown",
   "id": "7380b506-f0b4-44a4-9a18-5ee5d29c99c0",
   "metadata": {},
   "source": [
    "fool around - find out. Разликата между fooling aroung и наука, е че си записваме. Write it down.\n",
    "В data science наричаме Z score. Един запис представлява една точка в многомерно пространство. Колко мерно пространство - колкото са колоните в dataset. В dataset няма винаги да има числа - трябва да изкараме числа. Имаме матрица от числа - много на брой редове(записи) и обикновено много по-малко брой колони. Всеки един запис представлява едно наблюдение - тоест една точка в едно многомерно пространство. Една колона представлява едно измерение на данните. Тоест всяка една колона представлява един базисен вектор. И това веднага обвързва данните с цялата линейна алгебра и ни отключва целия machine learning. Между вектори от данни имаме коефициенти на корелация (коефициент на пиърсън). Гарантираме, че два вектора са независими, ако са ортогонални. Ако направим така, че нашите колони представляват ортогонални базисни вектори, значи ние ще знаем, че са независими. Иначе ще са частично корелирани. Връзка между зависима променлива и независими променливи е много важен - връзка между входа и изхода е много  важно. Ама връзка между входните променливи не е много яко. Например между страна на квадрат и лице = a и S. Не е много лесна - S = a^2, но все пак я има. И това са променливи, които не носят много вероятности. \n",
    "Данните живеят в многомерно пространство, което може да бъде трансформирано по много начини.\n",
    "Гледаме на всеки един запис като точка в това многомерно пространство, можем да питаме какво е разстоянието между 2 записа. Считаме разстоянието като мярка за подобие. Може 2 записа да са в един клас, в един и същи клъстер.\n",
    "Записите ни са скрити точки в едно многомерно пространство - щото не можем да го визуализираме.\n",
    "При многомерно пространство, връзките между някои променливи, някои от тези зависимости може да се окажат случайни.\n",
    "Така че трябва да покажем, че всяка връзка е значима. И трябва да покажем, че всяка връзка, която сме намерили, всяка хипотеза е значима. Показваме, че това което виждаме, правим има смисъл. И това не е тривиално. Това са Data Scientists.\n",
    "Тези отговарят на по-сложни въпроси като например как да направим този бизнес процес по-добре. "
   ]
  },
  {
   "cell_type": "markdown",
   "id": "dfe79706-d773-4d33-a0f7-c2c7dec349b9",
   "metadata": {},
   "source": [
    "Data Visualization и Explolatory Data Analysis са различнии. Първо трябва да видим какво има в данните - data mining или information extraction.\n",
    "Данните в случая са подредени, но трябва да извлечем полезна информация. \n",
    "Не започваме с данни, започваме с въпрос, за който търсим данни.\n",
    "След това трябва да разкажем историята на данните, но правилната история (storytelling). Имаме различни видове анализи, но ще имаме и графики - такива с цел запознаване и такива с цел комуникация. И тези 2 типа анализи може да са много различни. \n",
    "Внимавайте като правите екстраполация. \n",
    "Ако един резултат може да бъде репродуциран много пъти, много е вероятно да не е случаен, което ни позволяваше да направим от проста проверка на хипотези до много по-сериозни теории. \n",
    "Типове графики :\n",
    "- хистограми - бройки на нещо\n",
    "- Boxplots - показват по какъв начин са разпределени, но на по-агрегирано ниво\n",
    "- Barchart - показва число спрямо категория\n",
    "- Lineplots - показва връзка между зависими и независими променливи. Или между 2 променливи. Scatterplots също\n",
    "- PieCharts - кръговите диаграми. Удобни да покажем какъв процент е част от едно цяло към цяло.\n",
    "\n",
    "What chart to use - десетки видове указания\n",
    "Може да поиграем с различни видове графики. \n",
    "Използвайте цветове и позиция при графики да показвате свързаност/несвързаност.\n",
    "Съобразявайте се с медията и аудиторията.\n",
    "За да знаете какво да плотнете, трябва да се запознаете с данните, което ще доведе до няколко на брой итерации. Не забравяйте да документирате процеса :\n",
    "искам да направя туй туй туй. Правя го и казвам какво съм видял. Задавам си въпрос, правя си филтрирания, сортирания, графики и си отговарям на въпроса. Като не забравям да анализирам това, което съм видял. \n",
    "Базови правила графиките да са разбираеми.\n",
    "Например ако имаме х до 10 милиона и графиката е набутана в долния ляв ъгъл, може да вземем lg (десетичен логаритъм) и ще имаме 10, 100, 1000 тн.\n",
    "Втори вариант - показваме отделни части.\n",
    "Трети вариант - като има outlier.\n",
    "Съвсем различен начин на анализ.\n",
    "Използвайте максимално площта. \n",
    "Не претрупвайте с прекалено много информация.\n",
    "Разказвайте правилната история - Не се подвеждайте от данните и не подвеждайте другите от данните.\n",
    "Така че важна компонента проекта как представяте нещата.\n",
    "Пример за тримерен pie chart. \n",
    "hex плотове са начини да се направи хистограма.\n",
    "Шестоъгълната хистограма има по 6 съседа, и нямаме този проблем в който евентуално да изключим ръбовете.\n",
    "Двумерните хистограми не са много често - hex плотове."
   ]
  },
  {
   "cell_type": "code",
   "execution_count": 10,
   "id": "e7567d69-f599-4447-9af1-feeb2223b8c3",
   "metadata": {},
   "outputs": [],
   "source": [
    "#Казваме че индекс колоната е 0. Column(s) to use as row label(s)\n",
    "coffee_data = pd.read_csv(\"data/merged_data_cleaned.csv\", index_col=0)"
   ]
  },
  {
   "cell_type": "code",
   "execution_count": 11,
   "id": "d32f3c05-5ee6-4865-9924-c4a70ded7797",
   "metadata": {},
   "outputs": [
    {
     "data": {
      "text/html": [
       "<div>\n",
       "<style scoped>\n",
       "    .dataframe tbody tr th:only-of-type {\n",
       "        vertical-align: middle;\n",
       "    }\n",
       "\n",
       "    .dataframe tbody tr th {\n",
       "        vertical-align: top;\n",
       "    }\n",
       "\n",
       "    .dataframe thead th {\n",
       "        text-align: right;\n",
       "    }\n",
       "</style>\n",
       "<table border=\"1\" class=\"dataframe\">\n",
       "  <thead>\n",
       "    <tr style=\"text-align: right;\">\n",
       "      <th></th>\n",
       "      <th>Species</th>\n",
       "      <th>Owner</th>\n",
       "      <th>Country.of.Origin</th>\n",
       "      <th>Farm.Name</th>\n",
       "      <th>Lot.Number</th>\n",
       "      <th>Mill</th>\n",
       "      <th>ICO.Number</th>\n",
       "      <th>Company</th>\n",
       "      <th>Altitude</th>\n",
       "      <th>Region</th>\n",
       "      <th>...</th>\n",
       "      <th>Color</th>\n",
       "      <th>Category.Two.Defects</th>\n",
       "      <th>Expiration</th>\n",
       "      <th>Certification.Body</th>\n",
       "      <th>Certification.Address</th>\n",
       "      <th>Certification.Contact</th>\n",
       "      <th>unit_of_measurement</th>\n",
       "      <th>altitude_low_meters</th>\n",
       "      <th>altitude_high_meters</th>\n",
       "      <th>altitude_mean_meters</th>\n",
       "    </tr>\n",
       "  </thead>\n",
       "  <tbody>\n",
       "    <tr>\n",
       "      <th>0</th>\n",
       "      <td>Arabica</td>\n",
       "      <td>metad plc</td>\n",
       "      <td>Ethiopia</td>\n",
       "      <td>metad plc</td>\n",
       "      <td>NaN</td>\n",
       "      <td>metad plc</td>\n",
       "      <td>2014/2015</td>\n",
       "      <td>metad agricultural developmet plc</td>\n",
       "      <td>1950-2200</td>\n",
       "      <td>guji-hambela</td>\n",
       "      <td>...</td>\n",
       "      <td>Green</td>\n",
       "      <td>0</td>\n",
       "      <td>April 3rd, 2016</td>\n",
       "      <td>METAD Agricultural Development plc</td>\n",
       "      <td>309fcf77415a3661ae83e027f7e5f05dad786e44</td>\n",
       "      <td>19fef5a731de2db57d16da10287413f5f99bc2dd</td>\n",
       "      <td>m</td>\n",
       "      <td>1950.0</td>\n",
       "      <td>2200.0</td>\n",
       "      <td>2075.0</td>\n",
       "    </tr>\n",
       "    <tr>\n",
       "      <th>1</th>\n",
       "      <td>Arabica</td>\n",
       "      <td>metad plc</td>\n",
       "      <td>Ethiopia</td>\n",
       "      <td>metad plc</td>\n",
       "      <td>NaN</td>\n",
       "      <td>metad plc</td>\n",
       "      <td>2014/2015</td>\n",
       "      <td>metad agricultural developmet plc</td>\n",
       "      <td>1950-2200</td>\n",
       "      <td>guji-hambela</td>\n",
       "      <td>...</td>\n",
       "      <td>Green</td>\n",
       "      <td>1</td>\n",
       "      <td>April 3rd, 2016</td>\n",
       "      <td>METAD Agricultural Development plc</td>\n",
       "      <td>309fcf77415a3661ae83e027f7e5f05dad786e44</td>\n",
       "      <td>19fef5a731de2db57d16da10287413f5f99bc2dd</td>\n",
       "      <td>m</td>\n",
       "      <td>1950.0</td>\n",
       "      <td>2200.0</td>\n",
       "      <td>2075.0</td>\n",
       "    </tr>\n",
       "    <tr>\n",
       "      <th>2</th>\n",
       "      <td>Arabica</td>\n",
       "      <td>grounds for health admin</td>\n",
       "      <td>Guatemala</td>\n",
       "      <td>san marcos barrancas \"san cristobal cuch</td>\n",
       "      <td>NaN</td>\n",
       "      <td>NaN</td>\n",
       "      <td>NaN</td>\n",
       "      <td>NaN</td>\n",
       "      <td>1600 - 1800 m</td>\n",
       "      <td>NaN</td>\n",
       "      <td>...</td>\n",
       "      <td>NaN</td>\n",
       "      <td>0</td>\n",
       "      <td>May 31st, 2011</td>\n",
       "      <td>Specialty Coffee Association</td>\n",
       "      <td>36d0d00a3724338ba7937c52a378d085f2172daa</td>\n",
       "      <td>0878a7d4b9d35ddbf0fe2ce69a2062cceb45a660</td>\n",
       "      <td>m</td>\n",
       "      <td>1600.0</td>\n",
       "      <td>1800.0</td>\n",
       "      <td>1700.0</td>\n",
       "    </tr>\n",
       "    <tr>\n",
       "      <th>3</th>\n",
       "      <td>Arabica</td>\n",
       "      <td>yidnekachew dabessa</td>\n",
       "      <td>Ethiopia</td>\n",
       "      <td>yidnekachew dabessa coffee plantation</td>\n",
       "      <td>NaN</td>\n",
       "      <td>wolensu</td>\n",
       "      <td>NaN</td>\n",
       "      <td>yidnekachew debessa coffee plantation</td>\n",
       "      <td>1800-2200</td>\n",
       "      <td>oromia</td>\n",
       "      <td>...</td>\n",
       "      <td>Green</td>\n",
       "      <td>2</td>\n",
       "      <td>March 25th, 2016</td>\n",
       "      <td>METAD Agricultural Development plc</td>\n",
       "      <td>309fcf77415a3661ae83e027f7e5f05dad786e44</td>\n",
       "      <td>19fef5a731de2db57d16da10287413f5f99bc2dd</td>\n",
       "      <td>m</td>\n",
       "      <td>1800.0</td>\n",
       "      <td>2200.0</td>\n",
       "      <td>2000.0</td>\n",
       "    </tr>\n",
       "    <tr>\n",
       "      <th>4</th>\n",
       "      <td>Arabica</td>\n",
       "      <td>metad plc</td>\n",
       "      <td>Ethiopia</td>\n",
       "      <td>metad plc</td>\n",
       "      <td>NaN</td>\n",
       "      <td>metad plc</td>\n",
       "      <td>2014/2015</td>\n",
       "      <td>metad agricultural developmet plc</td>\n",
       "      <td>1950-2200</td>\n",
       "      <td>guji-hambela</td>\n",
       "      <td>...</td>\n",
       "      <td>Green</td>\n",
       "      <td>2</td>\n",
       "      <td>April 3rd, 2016</td>\n",
       "      <td>METAD Agricultural Development plc</td>\n",
       "      <td>309fcf77415a3661ae83e027f7e5f05dad786e44</td>\n",
       "      <td>19fef5a731de2db57d16da10287413f5f99bc2dd</td>\n",
       "      <td>m</td>\n",
       "      <td>1950.0</td>\n",
       "      <td>2200.0</td>\n",
       "      <td>2075.0</td>\n",
       "    </tr>\n",
       "    <tr>\n",
       "      <th>...</th>\n",
       "      <td>...</td>\n",
       "      <td>...</td>\n",
       "      <td>...</td>\n",
       "      <td>...</td>\n",
       "      <td>...</td>\n",
       "      <td>...</td>\n",
       "      <td>...</td>\n",
       "      <td>...</td>\n",
       "      <td>...</td>\n",
       "      <td>...</td>\n",
       "      <td>...</td>\n",
       "      <td>...</td>\n",
       "      <td>...</td>\n",
       "      <td>...</td>\n",
       "      <td>...</td>\n",
       "      <td>...</td>\n",
       "      <td>...</td>\n",
       "      <td>...</td>\n",
       "      <td>...</td>\n",
       "      <td>...</td>\n",
       "      <td>...</td>\n",
       "    </tr>\n",
       "    <tr>\n",
       "      <th>1334</th>\n",
       "      <td>Robusta</td>\n",
       "      <td>luis robles</td>\n",
       "      <td>Ecuador</td>\n",
       "      <td>robustasa</td>\n",
       "      <td>Lavado 1</td>\n",
       "      <td>our own lab</td>\n",
       "      <td>NaN</td>\n",
       "      <td>robustasa</td>\n",
       "      <td>NaN</td>\n",
       "      <td>san juan, playas</td>\n",
       "      <td>...</td>\n",
       "      <td>Blue-Green</td>\n",
       "      <td>1</td>\n",
       "      <td>January 18th, 2017</td>\n",
       "      <td>Specialty Coffee Association</td>\n",
       "      <td>ff7c18ad303d4b603ac3f8cff7e611ffc735e720</td>\n",
       "      <td>352d0cf7f3e9be14dad7df644ad65efc27605ae2</td>\n",
       "      <td>m</td>\n",
       "      <td>NaN</td>\n",
       "      <td>NaN</td>\n",
       "      <td>NaN</td>\n",
       "    </tr>\n",
       "    <tr>\n",
       "      <th>1335</th>\n",
       "      <td>Robusta</td>\n",
       "      <td>luis robles</td>\n",
       "      <td>Ecuador</td>\n",
       "      <td>robustasa</td>\n",
       "      <td>Lavado 3</td>\n",
       "      <td>own laboratory</td>\n",
       "      <td>NaN</td>\n",
       "      <td>robustasa</td>\n",
       "      <td>40</td>\n",
       "      <td>san juan, playas</td>\n",
       "      <td>...</td>\n",
       "      <td>Blue-Green</td>\n",
       "      <td>0</td>\n",
       "      <td>January 18th, 2017</td>\n",
       "      <td>Specialty Coffee Association</td>\n",
       "      <td>ff7c18ad303d4b603ac3f8cff7e611ffc735e720</td>\n",
       "      <td>352d0cf7f3e9be14dad7df644ad65efc27605ae2</td>\n",
       "      <td>m</td>\n",
       "      <td>40.0</td>\n",
       "      <td>40.0</td>\n",
       "      <td>40.0</td>\n",
       "    </tr>\n",
       "    <tr>\n",
       "      <th>1336</th>\n",
       "      <td>Robusta</td>\n",
       "      <td>james moore</td>\n",
       "      <td>United States</td>\n",
       "      <td>fazenda cazengo</td>\n",
       "      <td>NaN</td>\n",
       "      <td>cafe cazengo</td>\n",
       "      <td>NaN</td>\n",
       "      <td>global opportunity fund</td>\n",
       "      <td>795 meters</td>\n",
       "      <td>kwanza norte province, angola</td>\n",
       "      <td>...</td>\n",
       "      <td>NaN</td>\n",
       "      <td>6</td>\n",
       "      <td>December 23rd, 2015</td>\n",
       "      <td>Specialty Coffee Association</td>\n",
       "      <td>ff7c18ad303d4b603ac3f8cff7e611ffc735e720</td>\n",
       "      <td>352d0cf7f3e9be14dad7df644ad65efc27605ae2</td>\n",
       "      <td>m</td>\n",
       "      <td>795.0</td>\n",
       "      <td>795.0</td>\n",
       "      <td>795.0</td>\n",
       "    </tr>\n",
       "    <tr>\n",
       "      <th>1337</th>\n",
       "      <td>Robusta</td>\n",
       "      <td>cafe politico</td>\n",
       "      <td>India</td>\n",
       "      <td>NaN</td>\n",
       "      <td>NaN</td>\n",
       "      <td>NaN</td>\n",
       "      <td>14-1118-2014-0087</td>\n",
       "      <td>cafe politico</td>\n",
       "      <td>NaN</td>\n",
       "      <td>NaN</td>\n",
       "      <td>...</td>\n",
       "      <td>Green</td>\n",
       "      <td>1</td>\n",
       "      <td>August 25th, 2015</td>\n",
       "      <td>Specialty Coffee Association</td>\n",
       "      <td>ff7c18ad303d4b603ac3f8cff7e611ffc735e720</td>\n",
       "      <td>352d0cf7f3e9be14dad7df644ad65efc27605ae2</td>\n",
       "      <td>m</td>\n",
       "      <td>NaN</td>\n",
       "      <td>NaN</td>\n",
       "      <td>NaN</td>\n",
       "    </tr>\n",
       "    <tr>\n",
       "      <th>1338</th>\n",
       "      <td>Robusta</td>\n",
       "      <td>cafe politico</td>\n",
       "      <td>Vietnam</td>\n",
       "      <td>NaN</td>\n",
       "      <td>NaN</td>\n",
       "      <td>NaN</td>\n",
       "      <td>NaN</td>\n",
       "      <td>cafe politico</td>\n",
       "      <td>NaN</td>\n",
       "      <td>NaN</td>\n",
       "      <td>...</td>\n",
       "      <td>NaN</td>\n",
       "      <td>9</td>\n",
       "      <td>August 25th, 2015</td>\n",
       "      <td>Specialty Coffee Association</td>\n",
       "      <td>ff7c18ad303d4b603ac3f8cff7e611ffc735e720</td>\n",
       "      <td>352d0cf7f3e9be14dad7df644ad65efc27605ae2</td>\n",
       "      <td>m</td>\n",
       "      <td>NaN</td>\n",
       "      <td>NaN</td>\n",
       "      <td>NaN</td>\n",
       "    </tr>\n",
       "  </tbody>\n",
       "</table>\n",
       "<p>1339 rows × 43 columns</p>\n",
       "</div>"
      ],
      "text/plain": [
       "      Species                     Owner Country.of.Origin  \\\n",
       "0     Arabica                 metad plc          Ethiopia   \n",
       "1     Arabica                 metad plc          Ethiopia   \n",
       "2     Arabica  grounds for health admin         Guatemala   \n",
       "3     Arabica       yidnekachew dabessa          Ethiopia   \n",
       "4     Arabica                 metad plc          Ethiopia   \n",
       "...       ...                       ...               ...   \n",
       "1334  Robusta               luis robles           Ecuador   \n",
       "1335  Robusta               luis robles           Ecuador   \n",
       "1336  Robusta               james moore     United States   \n",
       "1337  Robusta             cafe politico             India   \n",
       "1338  Robusta             cafe politico           Vietnam   \n",
       "\n",
       "                                     Farm.Name Lot.Number            Mill  \\\n",
       "0                                    metad plc        NaN       metad plc   \n",
       "1                                    metad plc        NaN       metad plc   \n",
       "2     san marcos barrancas \"san cristobal cuch        NaN             NaN   \n",
       "3        yidnekachew dabessa coffee plantation        NaN         wolensu   \n",
       "4                                    metad plc        NaN       metad plc   \n",
       "...                                        ...        ...             ...   \n",
       "1334                                 robustasa   Lavado 1     our own lab   \n",
       "1335                                 robustasa   Lavado 3  own laboratory   \n",
       "1336                           fazenda cazengo        NaN    cafe cazengo   \n",
       "1337                                       NaN        NaN             NaN   \n",
       "1338                                       NaN        NaN             NaN   \n",
       "\n",
       "             ICO.Number                                Company       Altitude  \\\n",
       "0             2014/2015      metad agricultural developmet plc      1950-2200   \n",
       "1             2014/2015      metad agricultural developmet plc      1950-2200   \n",
       "2                   NaN                                    NaN  1600 - 1800 m   \n",
       "3                   NaN  yidnekachew debessa coffee plantation      1800-2200   \n",
       "4             2014/2015      metad agricultural developmet plc      1950-2200   \n",
       "...                 ...                                    ...            ...   \n",
       "1334                NaN                              robustasa            NaN   \n",
       "1335                NaN                              robustasa             40   \n",
       "1336                NaN                global opportunity fund     795 meters   \n",
       "1337  14-1118-2014-0087                          cafe politico            NaN   \n",
       "1338                NaN                          cafe politico            NaN   \n",
       "\n",
       "                             Region  ...       Color  Category.Two.Defects  \\\n",
       "0                      guji-hambela  ...       Green                     0   \n",
       "1                      guji-hambela  ...       Green                     1   \n",
       "2                               NaN  ...         NaN                     0   \n",
       "3                            oromia  ...       Green                     2   \n",
       "4                      guji-hambela  ...       Green                     2   \n",
       "...                             ...  ...         ...                   ...   \n",
       "1334               san juan, playas  ...  Blue-Green                     1   \n",
       "1335               san juan, playas  ...  Blue-Green                     0   \n",
       "1336  kwanza norte province, angola  ...         NaN                     6   \n",
       "1337                            NaN  ...       Green                     1   \n",
       "1338                            NaN  ...         NaN                     9   \n",
       "\n",
       "               Expiration                  Certification.Body  \\\n",
       "0         April 3rd, 2016  METAD Agricultural Development plc   \n",
       "1         April 3rd, 2016  METAD Agricultural Development plc   \n",
       "2          May 31st, 2011        Specialty Coffee Association   \n",
       "3        March 25th, 2016  METAD Agricultural Development plc   \n",
       "4         April 3rd, 2016  METAD Agricultural Development plc   \n",
       "...                   ...                                 ...   \n",
       "1334   January 18th, 2017        Specialty Coffee Association   \n",
       "1335   January 18th, 2017        Specialty Coffee Association   \n",
       "1336  December 23rd, 2015        Specialty Coffee Association   \n",
       "1337    August 25th, 2015        Specialty Coffee Association   \n",
       "1338    August 25th, 2015        Specialty Coffee Association   \n",
       "\n",
       "                         Certification.Address  \\\n",
       "0     309fcf77415a3661ae83e027f7e5f05dad786e44   \n",
       "1     309fcf77415a3661ae83e027f7e5f05dad786e44   \n",
       "2     36d0d00a3724338ba7937c52a378d085f2172daa   \n",
       "3     309fcf77415a3661ae83e027f7e5f05dad786e44   \n",
       "4     309fcf77415a3661ae83e027f7e5f05dad786e44   \n",
       "...                                        ...   \n",
       "1334  ff7c18ad303d4b603ac3f8cff7e611ffc735e720   \n",
       "1335  ff7c18ad303d4b603ac3f8cff7e611ffc735e720   \n",
       "1336  ff7c18ad303d4b603ac3f8cff7e611ffc735e720   \n",
       "1337  ff7c18ad303d4b603ac3f8cff7e611ffc735e720   \n",
       "1338  ff7c18ad303d4b603ac3f8cff7e611ffc735e720   \n",
       "\n",
       "                         Certification.Contact unit_of_measurement  \\\n",
       "0     19fef5a731de2db57d16da10287413f5f99bc2dd                   m   \n",
       "1     19fef5a731de2db57d16da10287413f5f99bc2dd                   m   \n",
       "2     0878a7d4b9d35ddbf0fe2ce69a2062cceb45a660                   m   \n",
       "3     19fef5a731de2db57d16da10287413f5f99bc2dd                   m   \n",
       "4     19fef5a731de2db57d16da10287413f5f99bc2dd                   m   \n",
       "...                                        ...                 ...   \n",
       "1334  352d0cf7f3e9be14dad7df644ad65efc27605ae2                   m   \n",
       "1335  352d0cf7f3e9be14dad7df644ad65efc27605ae2                   m   \n",
       "1336  352d0cf7f3e9be14dad7df644ad65efc27605ae2                   m   \n",
       "1337  352d0cf7f3e9be14dad7df644ad65efc27605ae2                   m   \n",
       "1338  352d0cf7f3e9be14dad7df644ad65efc27605ae2                   m   \n",
       "\n",
       "     altitude_low_meters altitude_high_meters  altitude_mean_meters  \n",
       "0                 1950.0               2200.0                2075.0  \n",
       "1                 1950.0               2200.0                2075.0  \n",
       "2                 1600.0               1800.0                1700.0  \n",
       "3                 1800.0               2200.0                2000.0  \n",
       "4                 1950.0               2200.0                2075.0  \n",
       "...                  ...                  ...                   ...  \n",
       "1334                 NaN                  NaN                   NaN  \n",
       "1335                40.0                 40.0                  40.0  \n",
       "1336               795.0                795.0                 795.0  \n",
       "1337                 NaN                  NaN                   NaN  \n",
       "1338                 NaN                  NaN                   NaN  \n",
       "\n",
       "[1339 rows x 43 columns]"
      ]
     },
     "execution_count": 11,
     "metadata": {},
     "output_type": "execute_result"
    }
   ],
   "source": [
    "coffee_data"
   ]
  },
  {
   "cell_type": "code",
   "execution_count": 12,
   "id": "e987a9a9-1917-4aa9-ab2a-99f65c55aa6c",
   "metadata": {},
   "outputs": [
    {
     "data": {
      "text/plain": [
       "(1339, 43)"
      ]
     },
     "execution_count": 12,
     "metadata": {},
     "output_type": "execute_result"
    }
   ],
   "source": [
    "coffee_data.shape"
   ]
  },
  {
   "cell_type": "code",
   "execution_count": 13,
   "id": "8295f19c-28d4-4f3c-88e1-d720f7f5a308",
   "metadata": {},
   "outputs": [
    {
     "data": {
      "text/plain": [
       "Index(['Species', 'Owner', 'Country.of.Origin', 'Farm.Name', 'Lot.Number',\n",
       "       'Mill', 'ICO.Number', 'Company', 'Altitude', 'Region', 'Producer',\n",
       "       'Number.of.Bags', 'Bag.Weight', 'In.Country.Partner', 'Harvest.Year',\n",
       "       'Grading.Date', 'Owner.1', 'Variety', 'Processing.Method', 'Aroma',\n",
       "       'Flavor', 'Aftertaste', 'Acidity', 'Body', 'Balance', 'Uniformity',\n",
       "       'Clean.Cup', 'Sweetness', 'Cupper.Points', 'Total.Cup.Points',\n",
       "       'Moisture', 'Category.One.Defects', 'Quakers', 'Color',\n",
       "       'Category.Two.Defects', 'Expiration', 'Certification.Body',\n",
       "       'Certification.Address', 'Certification.Contact', 'unit_of_measurement',\n",
       "       'altitude_low_meters', 'altitude_high_meters', 'altitude_mean_meters'],\n",
       "      dtype='object')"
      ]
     },
     "execution_count": 13,
     "metadata": {},
     "output_type": "execute_result"
    }
   ],
   "source": [
    "coffee_data.columns"
   ]
  },
  {
   "cell_type": "code",
   "execution_count": 14,
   "id": "c6d0b540-6b27-4ed7-80fd-510111ad1cc7",
   "metadata": {},
   "outputs": [
    {
     "data": {
      "text/plain": [
       "Species                   object\n",
       "Owner                     object\n",
       "Country.of.Origin         object\n",
       "Farm.Name                 object\n",
       "Lot.Number                object\n",
       "Mill                      object\n",
       "ICO.Number                object\n",
       "Company                   object\n",
       "Altitude                  object\n",
       "Region                    object\n",
       "Producer                  object\n",
       "Number.of.Bags             int64\n",
       "Bag.Weight                object\n",
       "In.Country.Partner        object\n",
       "Harvest.Year              object\n",
       "Grading.Date              object\n",
       "Owner.1                   object\n",
       "Variety                   object\n",
       "Processing.Method         object\n",
       "Aroma                    float64\n",
       "Flavor                   float64\n",
       "Aftertaste               float64\n",
       "Acidity                  float64\n",
       "Body                     float64\n",
       "Balance                  float64\n",
       "Uniformity               float64\n",
       "Clean.Cup                float64\n",
       "Sweetness                float64\n",
       "Cupper.Points            float64\n",
       "Total.Cup.Points         float64\n",
       "Moisture                 float64\n",
       "Category.One.Defects       int64\n",
       "Quakers                  float64\n",
       "Color                     object\n",
       "Category.Two.Defects       int64\n",
       "Expiration                object\n",
       "Certification.Body        object\n",
       "Certification.Address     object\n",
       "Certification.Contact     object\n",
       "unit_of_measurement       object\n",
       "altitude_low_meters      float64\n",
       "altitude_high_meters     float64\n",
       "altitude_mean_meters     float64\n",
       "dtype: object"
      ]
     },
     "execution_count": 14,
     "metadata": {},
     "output_type": "execute_result"
    }
   ],
   "source": [
    "#Проверяваме за валидност\n",
    "coffee_data.dtypes"
   ]
  },
  {
   "cell_type": "markdown",
   "id": "94f10d40-4946-49d2-ad63-b5f7dcdf5b2f",
   "metadata": {},
   "source": [
    "Например harvest year защо е обект (Стринг).Проверяваме го."
   ]
  },
  {
   "cell_type": "code",
   "execution_count": 15,
   "id": "3071b90a-6695-4630-9e99-e9fa578b321f",
   "metadata": {},
   "outputs": [
    {
     "data": {
      "text/plain": [
       "0       2014\n",
       "1       2014\n",
       "2        NaN\n",
       "3       2014\n",
       "4       2014\n",
       "        ... \n",
       "1334    2016\n",
       "1335    2016\n",
       "1336    2014\n",
       "1337    2013\n",
       "1338    2013\n",
       "Name: Harvest.Year, Length: 1339, dtype: object"
      ]
     },
     "execution_count": 15,
     "metadata": {},
     "output_type": "execute_result"
    }
   ],
   "source": [
    "coffee_data[\"Harvest.Year\"]"
   ]
  },
  {
   "cell_type": "code",
   "execution_count": 16,
   "id": "cdd7e018-b6ce-4e3a-a610-2281a8cb085b",
   "metadata": {},
   "outputs": [
    {
     "data": {
      "text/plain": [
       "array(['2014', nan, '2013', '2012', 'March 2010',\n",
       "       'Sept 2009 - April 2010', 'May-August', '2009/2010', '2015',\n",
       "       '2011', '2016', '2015/2016', '2010', 'Fall 2009', '2017',\n",
       "       '2009 / 2010', '2010-2011', '2009-2010', '2009 - 2010',\n",
       "       '2013/2014', '2017 / 2018', 'mmm', 'TEST',\n",
       "       'December 2009-March 2010', '2014/2015', '2011/2012',\n",
       "       'January 2011', '4T/10', '2016 / 2017', '23 July 2010',\n",
       "       'January Through April', '1T/2011', '4t/2010', '4T/2010',\n",
       "       'August to December', 'Mayo a Julio', '47/2010', 'Abril - Julio',\n",
       "       '4t/2011', 'Abril - Julio /2011', 'Spring 2011 in Colombia.',\n",
       "       '3T/2011', '2016/2017', '1t/2011', '2018', '4T72010', '08/09 crop'],\n",
       "      dtype=object)"
      ]
     },
     "execution_count": 16,
     "metadata": {},
     "output_type": "execute_result"
    }
   ],
   "source": [
    "coffee_data[\"Harvest.Year\"].unique()"
   ]
  },
  {
   "cell_type": "markdown",
   "id": "5e122e96-1373-4acb-af2a-f41179a39e08",
   "metadata": {},
   "source": [
    "Pandas astype errors \n",
    "https://pandas.pydata.org/pandas-docs/stable/reference/api/pandas.DataFrame.astype.html#pandas.DataFrame.astype\n"
   ]
  },
  {
   "cell_type": "code",
   "execution_count": 17,
   "id": "bb6bafce-eeb4-4b45-98b6-7a46f9b30b3f",
   "metadata": {},
   "outputs": [
    {
     "data": {
      "text/plain": [
       "0       2014\n",
       "1       2014\n",
       "2        NaN\n",
       "3       2014\n",
       "4       2014\n",
       "        ... \n",
       "1334    2016\n",
       "1335    2016\n",
       "1336    2014\n",
       "1337    2013\n",
       "1338    2013\n",
       "Name: Harvest.Year, Length: 1339, dtype: object"
      ]
     },
     "execution_count": 17,
     "metadata": {},
     "output_type": "execute_result"
    }
   ],
   "source": [
    "coffee_data[\"Harvest.Year\"].astype(int, errors = \"ignore\")"
   ]
  },
  {
   "cell_type": "markdown",
   "id": "6d45cb2f-484b-428b-b1bd-f307e2a9cc8f",
   "metadata": {},
   "source": [
    "ако искаме да вземем NaN, можем да ги направим float"
   ]
  },
  {
   "cell_type": "code",
   "execution_count": 18,
   "id": "25ddaf9e-9396-4043-aadc-51f748184c08",
   "metadata": {},
   "outputs": [
    {
     "data": {
      "text/plain": [
       "0       2014\n",
       "1       2014\n",
       "2        NaN\n",
       "3       2014\n",
       "4       2014\n",
       "        ... \n",
       "1334    2016\n",
       "1335    2016\n",
       "1336    2014\n",
       "1337    2013\n",
       "1338    2013\n",
       "Name: Harvest.Year, Length: 1339, dtype: object"
      ]
     },
     "execution_count": 18,
     "metadata": {},
     "output_type": "execute_result"
    }
   ],
   "source": [
    "coffee_data[\"Harvest.Year\"].astype(float, errors = \"ignore\")"
   ]
  },
  {
   "cell_type": "markdown",
   "id": "2ea7d0fe-0d08-4aec-b56f-5c6d6055ccd4",
   "metadata": {},
   "source": [
    "Започваме проверки"
   ]
  },
  {
   "cell_type": "code",
   "execution_count": 19,
   "id": "48592220-1222-455c-beda-797afe68e7d0",
   "metadata": {},
   "outputs": [
    {
     "data": {
      "text/plain": [
       "0       True\n",
       "1       True\n",
       "2        NaN\n",
       "3       True\n",
       "4       True\n",
       "        ... \n",
       "1334    True\n",
       "1335    True\n",
       "1336    True\n",
       "1337    True\n",
       "1338    True\n",
       "Name: Harvest.Year, Length: 1339, dtype: object"
      ]
     },
     "execution_count": 19,
     "metadata": {},
     "output_type": "execute_result"
    }
   ],
   "source": [
    "coffee_data[\"Harvest.Year\"].str.isnumeric()"
   ]
  },
  {
   "cell_type": "code",
   "execution_count": 21,
   "id": "5303ce44-150d-4436-a997-18acb2def6c2",
   "metadata": {},
   "outputs": [
    {
     "data": {
      "text/plain": [
       "0       True\n",
       "1       True\n",
       "2        NaN\n",
       "3       True\n",
       "4       True\n",
       "        ... \n",
       "1334    True\n",
       "1335    True\n",
       "1336    True\n",
       "1337    True\n",
       "1338    True\n",
       "Name: Harvest.Year, Length: 1339, dtype: object"
      ]
     },
     "execution_count": 21,
     "metadata": {},
     "output_type": "execute_result"
    }
   ],
   "source": [
    "coffee_data[\"Harvest.Year\"].str.isnumeric()"
   ]
  },
  {
   "cell_type": "markdown",
   "id": "b9f9ed5f-c6b1-4048-be79-ae41a21d5887",
   "metadata": {},
   "source": [
    "Можем да се пробваме да вземем само тези които са number, обаче ще даде грешка щото имаме NaN"
   ]
  },
  {
   "cell_type": "code",
   "execution_count": 24,
   "id": "05506d37-f774-438b-9051-eb5d8840b355",
   "metadata": {},
   "outputs": [
    {
     "ename": "ValueError",
     "evalue": "Cannot mask with non-boolean array containing NA / NaN values",
     "output_type": "error",
     "traceback": [
      "\u001b[1;31m---------------------------------------------------------------------------\u001b[0m",
      "\u001b[1;31mValueError\u001b[0m                                Traceback (most recent call last)",
      "Cell \u001b[1;32mIn[24], line 1\u001b[0m\n\u001b[1;32m----> 1\u001b[0m coffee_data[coffee_data[\u001b[38;5;124m\"\u001b[39m\u001b[38;5;124mHarvest.Year\u001b[39m\u001b[38;5;124m\"\u001b[39m]\u001b[38;5;241m.\u001b[39mstr\u001b[38;5;241m.\u001b[39misnumeric()]\n",
      "File \u001b[1;32m~\\anaconda3\\Lib\\site-packages\\pandas\\core\\frame.py:3883\u001b[0m, in \u001b[0;36mDataFrame.__getitem__\u001b[1;34m(self, key)\u001b[0m\n\u001b[0;32m   3880\u001b[0m     \u001b[38;5;28;01mreturn\u001b[39;00m \u001b[38;5;28mself\u001b[39m\u001b[38;5;241m.\u001b[39mwhere(key)\n\u001b[0;32m   3882\u001b[0m \u001b[38;5;66;03m# Do we have a (boolean) 1d indexer?\u001b[39;00m\n\u001b[1;32m-> 3883\u001b[0m \u001b[38;5;28;01mif\u001b[39;00m com\u001b[38;5;241m.\u001b[39mis_bool_indexer(key):\n\u001b[0;32m   3884\u001b[0m     \u001b[38;5;28;01mreturn\u001b[39;00m \u001b[38;5;28mself\u001b[39m\u001b[38;5;241m.\u001b[39m_getitem_bool_array(key)\n\u001b[0;32m   3886\u001b[0m \u001b[38;5;66;03m# We are left with two options: a single key, and a collection of keys,\u001b[39;00m\n\u001b[0;32m   3887\u001b[0m \u001b[38;5;66;03m# We interpret tuples as collections only for non-MultiIndex\u001b[39;00m\n",
      "File \u001b[1;32m~\\anaconda3\\Lib\\site-packages\\pandas\\core\\common.py:133\u001b[0m, in \u001b[0;36mis_bool_indexer\u001b[1;34m(key)\u001b[0m\n\u001b[0;32m    129\u001b[0m     na_msg \u001b[38;5;241m=\u001b[39m \u001b[38;5;124m\"\u001b[39m\u001b[38;5;124mCannot mask with non-boolean array containing NA / NaN values\u001b[39m\u001b[38;5;124m\"\u001b[39m\n\u001b[0;32m    130\u001b[0m     \u001b[38;5;28;01mif\u001b[39;00m lib\u001b[38;5;241m.\u001b[39mis_bool_array(key_array, skipna\u001b[38;5;241m=\u001b[39m\u001b[38;5;28;01mTrue\u001b[39;00m):\n\u001b[0;32m    131\u001b[0m         \u001b[38;5;66;03m# Don't raise on e.g. [\"A\", \"B\", np.nan], see\u001b[39;00m\n\u001b[0;32m    132\u001b[0m         \u001b[38;5;66;03m#  test_loc_getitem_list_of_labels_categoricalindex_with_na\u001b[39;00m\n\u001b[1;32m--> 133\u001b[0m         \u001b[38;5;28;01mraise\u001b[39;00m \u001b[38;5;167;01mValueError\u001b[39;00m(na_msg)\n\u001b[0;32m    134\u001b[0m     \u001b[38;5;28;01mreturn\u001b[39;00m \u001b[38;5;28;01mFalse\u001b[39;00m\n\u001b[0;32m    135\u001b[0m \u001b[38;5;28;01mreturn\u001b[39;00m \u001b[38;5;28;01mTrue\u001b[39;00m\n",
      "\u001b[1;31mValueError\u001b[0m: Cannot mask with non-boolean array containing NA / NaN values"
     ]
    }
   ],
   "source": [
    "coffee_data[coffee_data[\"Harvest.Year\"].str.isnumeric()]"
   ]
  },
  {
   "cell_type": "code",
   "execution_count": 25,
   "id": "065d0e13-141f-4598-be2b-578fc87c5f9c",
   "metadata": {},
   "outputs": [
    {
     "data": {
      "text/plain": [
       "array([True, nan, False], dtype=object)"
      ]
     },
     "execution_count": 25,
     "metadata": {},
     "output_type": "execute_result"
    }
   ],
   "source": [
    "coffee_data[\"Harvest.Year\"].str.isnumeric().unique()"
   ]
  },
  {
   "cell_type": "markdown",
   "id": "01042ecf-2b53-493c-baaa-8d777eb115ad",
   "metadata": {},
   "source": [
    "Виждаме колко са NaN"
   ]
  },
  {
   "cell_type": "code",
   "execution_count": 29,
   "id": "de91d591-b933-432b-bb36-5c560ffed691",
   "metadata": {},
   "outputs": [
    {
     "data": {
      "text/plain": [
       "Harvest.Year\n",
       "True     1128\n",
       "False     164\n",
       "NaN        47\n",
       "Name: count, dtype: int64"
      ]
     },
     "execution_count": 29,
     "metadata": {},
     "output_type": "execute_result"
    }
   ],
   "source": [
    "coffee_data[\"Harvest.Year\"].str.isnumeric().value_counts(dropna=False)"
   ]
  },
  {
   "cell_type": "markdown",
   "id": "c8125d53-e01d-4e65-9d77-450d53a206bc",
   "metadata": {},
   "source": [
    "Подреждането, почистването и анализа на данни вървят ръка за ръка. За да ги почистя, трябва да ги анализирам"
   ]
  },
  {
   "cell_type": "code",
   "execution_count": 30,
   "id": "fa0fe0d9-26b6-4802-b4d3-a8641fac042f",
   "metadata": {},
   "outputs": [
    {
     "data": {
      "text/plain": [
       "0       True\n",
       "1       True\n",
       "3       True\n",
       "4       True\n",
       "5       True\n",
       "        ... \n",
       "1334    True\n",
       "1335    True\n",
       "1336    True\n",
       "1337    True\n",
       "1338    True\n",
       "Name: Harvest.Year, Length: 1292, dtype: object"
      ]
     },
     "execution_count": 30,
     "metadata": {},
     "output_type": "execute_result"
    }
   ],
   "source": [
    "coffee_data[\"Harvest.Year\"].str.isnumeric().dropna()"
   ]
  },
  {
   "cell_type": "markdown",
   "id": "d84479f5-3590-4443-b15b-78d7e5f3501a",
   "metadata": {},
   "source": [
    "и взимаме coffee data индексирани по този начин."
   ]
  },
  {
   "cell_type": "code",
   "execution_count": 31,
   "id": "9d7204d5-0f1f-4030-8e11-1eb8b277cc5c",
   "metadata": {},
   "outputs": [
    {
     "name": "stderr",
     "output_type": "stream",
     "text": [
      "C:\\Users\\HP\\AppData\\Local\\Temp\\ipykernel_7420\\1772523239.py:1: UserWarning: Boolean Series key will be reindexed to match DataFrame index.\n",
      "  coffee_data[coffee_data[\"Harvest.Year\"].str.isnumeric().dropna()]\n"
     ]
    },
    {
     "ename": "IndexingError",
     "evalue": "Unalignable boolean Series provided as indexer (index of the boolean Series and of the indexed object do not match).",
     "output_type": "error",
     "traceback": [
      "\u001b[1;31m---------------------------------------------------------------------------\u001b[0m",
      "\u001b[1;31mIndexingError\u001b[0m                             Traceback (most recent call last)",
      "Cell \u001b[1;32mIn[31], line 1\u001b[0m\n\u001b[1;32m----> 1\u001b[0m coffee_data[coffee_data[\u001b[38;5;124m\"\u001b[39m\u001b[38;5;124mHarvest.Year\u001b[39m\u001b[38;5;124m\"\u001b[39m]\u001b[38;5;241m.\u001b[39mstr\u001b[38;5;241m.\u001b[39misnumeric()\u001b[38;5;241m.\u001b[39mdropna()]\n",
      "File \u001b[1;32m~\\anaconda3\\Lib\\site-packages\\pandas\\core\\frame.py:3884\u001b[0m, in \u001b[0;36mDataFrame.__getitem__\u001b[1;34m(self, key)\u001b[0m\n\u001b[0;32m   3882\u001b[0m \u001b[38;5;66;03m# Do we have a (boolean) 1d indexer?\u001b[39;00m\n\u001b[0;32m   3883\u001b[0m \u001b[38;5;28;01mif\u001b[39;00m com\u001b[38;5;241m.\u001b[39mis_bool_indexer(key):\n\u001b[1;32m-> 3884\u001b[0m     \u001b[38;5;28;01mreturn\u001b[39;00m \u001b[38;5;28mself\u001b[39m\u001b[38;5;241m.\u001b[39m_getitem_bool_array(key)\n\u001b[0;32m   3886\u001b[0m \u001b[38;5;66;03m# We are left with two options: a single key, and a collection of keys,\u001b[39;00m\n\u001b[0;32m   3887\u001b[0m \u001b[38;5;66;03m# We interpret tuples as collections only for non-MultiIndex\u001b[39;00m\n\u001b[0;32m   3888\u001b[0m is_single_key \u001b[38;5;241m=\u001b[39m \u001b[38;5;28misinstance\u001b[39m(key, \u001b[38;5;28mtuple\u001b[39m) \u001b[38;5;129;01mor\u001b[39;00m \u001b[38;5;129;01mnot\u001b[39;00m is_list_like(key)\n",
      "File \u001b[1;32m~\\anaconda3\\Lib\\site-packages\\pandas\\core\\frame.py:3940\u001b[0m, in \u001b[0;36mDataFrame._getitem_bool_array\u001b[1;34m(self, key)\u001b[0m\n\u001b[0;32m   3934\u001b[0m     \u001b[38;5;28;01mraise\u001b[39;00m \u001b[38;5;167;01mValueError\u001b[39;00m(\n\u001b[0;32m   3935\u001b[0m         \u001b[38;5;124mf\u001b[39m\u001b[38;5;124m\"\u001b[39m\u001b[38;5;124mItem wrong length \u001b[39m\u001b[38;5;132;01m{\u001b[39;00m\u001b[38;5;28mlen\u001b[39m(key)\u001b[38;5;132;01m}\u001b[39;00m\u001b[38;5;124m instead of \u001b[39m\u001b[38;5;132;01m{\u001b[39;00m\u001b[38;5;28mlen\u001b[39m(\u001b[38;5;28mself\u001b[39m\u001b[38;5;241m.\u001b[39mindex)\u001b[38;5;132;01m}\u001b[39;00m\u001b[38;5;124m.\u001b[39m\u001b[38;5;124m\"\u001b[39m\n\u001b[0;32m   3936\u001b[0m     )\n\u001b[0;32m   3938\u001b[0m \u001b[38;5;66;03m# check_bool_indexer will throw exception if Series key cannot\u001b[39;00m\n\u001b[0;32m   3939\u001b[0m \u001b[38;5;66;03m# be reindexed to match DataFrame rows\u001b[39;00m\n\u001b[1;32m-> 3940\u001b[0m key \u001b[38;5;241m=\u001b[39m check_bool_indexer(\u001b[38;5;28mself\u001b[39m\u001b[38;5;241m.\u001b[39mindex, key)\n\u001b[0;32m   3942\u001b[0m \u001b[38;5;28;01mif\u001b[39;00m key\u001b[38;5;241m.\u001b[39mall():\n\u001b[0;32m   3943\u001b[0m     \u001b[38;5;28;01mreturn\u001b[39;00m \u001b[38;5;28mself\u001b[39m\u001b[38;5;241m.\u001b[39mcopy(deep\u001b[38;5;241m=\u001b[39m\u001b[38;5;28;01mNone\u001b[39;00m)\n",
      "File \u001b[1;32m~\\anaconda3\\Lib\\site-packages\\pandas\\core\\indexing.py:2575\u001b[0m, in \u001b[0;36mcheck_bool_indexer\u001b[1;34m(index, key)\u001b[0m\n\u001b[0;32m   2573\u001b[0m indexer \u001b[38;5;241m=\u001b[39m result\u001b[38;5;241m.\u001b[39mindex\u001b[38;5;241m.\u001b[39mget_indexer_for(index)\n\u001b[0;32m   2574\u001b[0m \u001b[38;5;28;01mif\u001b[39;00m \u001b[38;5;241m-\u001b[39m\u001b[38;5;241m1\u001b[39m \u001b[38;5;129;01min\u001b[39;00m indexer:\n\u001b[1;32m-> 2575\u001b[0m     \u001b[38;5;28;01mraise\u001b[39;00m IndexingError(\n\u001b[0;32m   2576\u001b[0m         \u001b[38;5;124m\"\u001b[39m\u001b[38;5;124mUnalignable boolean Series provided as \u001b[39m\u001b[38;5;124m\"\u001b[39m\n\u001b[0;32m   2577\u001b[0m         \u001b[38;5;124m\"\u001b[39m\u001b[38;5;124mindexer (index of the boolean Series and of \u001b[39m\u001b[38;5;124m\"\u001b[39m\n\u001b[0;32m   2578\u001b[0m         \u001b[38;5;124m\"\u001b[39m\u001b[38;5;124mthe indexed object do not match).\u001b[39m\u001b[38;5;124m\"\u001b[39m\n\u001b[0;32m   2579\u001b[0m     )\n\u001b[0;32m   2581\u001b[0m result \u001b[38;5;241m=\u001b[39m result\u001b[38;5;241m.\u001b[39mtake(indexer)\n\u001b[0;32m   2583\u001b[0m \u001b[38;5;66;03m# fall through for boolean\u001b[39;00m\n",
      "\u001b[1;31mIndexingError\u001b[0m: Unalignable boolean Series provided as indexer (index of the boolean Series and of the indexed object do not match)."
     ]
    }
   ],
   "source": [
    "coffee_data[coffee_data[\"Harvest.Year\"].str.isnumeric().dropna()]"
   ]
  },
  {
   "cell_type": "markdown",
   "id": "e76953e3-a21c-4f17-a5f7-e883dcd4f10d",
   "metadata": {},
   "source": [
    "обаче не работи затова правим следното "
   ]
  },
  {
   "cell_type": "code",
   "execution_count": 32,
   "id": "1706030c-b69f-4c28-a16f-1457ba0bc93e",
   "metadata": {},
   "outputs": [
    {
     "ename": "SyntaxError",
     "evalue": "incomplete input (3754073774.py, line 1)",
     "output_type": "error",
     "traceback": [
      "\u001b[1;36m  Cell \u001b[1;32mIn[32], line 1\u001b[1;36m\u001b[0m\n\u001b[1;33m    coffee_data[coffee_data[\"Harvest.Year\"].str.isnumeric() == True\u001b[0m\n\u001b[1;37m                                                                   ^\u001b[0m\n\u001b[1;31mSyntaxError\u001b[0m\u001b[1;31m:\u001b[0m incomplete input\n"
     ]
    }
   ],
   "source": []
  },
  {
   "cell_type": "code",
   "execution_count": 34,
   "id": "d1374fe7-7ae8-498a-a266-327e4121c7b1",
   "metadata": {},
   "outputs": [],
   "source": [
    "coffee_data_valid_years = coffee_data[coffee_data[\"Harvest.Year\"].str.isnumeric() == True]"
   ]
  },
  {
   "cell_type": "code",
   "execution_count": 35,
   "id": "eaaae873-bb46-47d3-8d48-064d8429ec81",
   "metadata": {},
   "outputs": [
    {
     "name": "stderr",
     "output_type": "stream",
     "text": [
      "C:\\Users\\HP\\AppData\\Local\\Temp\\ipykernel_7420\\4078202082.py:1: SettingWithCopyWarning: \n",
      "A value is trying to be set on a copy of a slice from a DataFrame.\n",
      "Try using .loc[row_indexer,col_indexer] = value instead\n",
      "\n",
      "See the caveats in the documentation: https://pandas.pydata.org/pandas-docs/stable/user_guide/indexing.html#returning-a-view-versus-a-copy\n",
      "  coffee_data_valid_years[\"Harvest.Year\"] = coffee_data_valid_years[\"Harvest.Year\"].astype(int)\n"
     ]
    }
   ],
   "source": [
    "coffee_data_valid_years[\"Harvest.Year\"] = coffee_data_valid_years[\"Harvest.Year\"].astype(int)"
   ]
  },
  {
   "cell_type": "code",
   "execution_count": 36,
   "id": "175a6078-98c9-401a-a0a1-fe0c47bca436",
   "metadata": {},
   "outputs": [
    {
     "data": {
      "text/plain": [
       "0       2014\n",
       "1       2014\n",
       "3       2014\n",
       "4       2014\n",
       "5       2013\n",
       "        ... \n",
       "1334    2016\n",
       "1335    2016\n",
       "1336    2014\n",
       "1337    2013\n",
       "1338    2013\n",
       "Name: Harvest.Year, Length: 1128, dtype: int32"
      ]
     },
     "execution_count": 36,
     "metadata": {},
     "output_type": "execute_result"
    }
   ],
   "source": [
    "coffee_data_valid_years[\"Harvest.Year\"]"
   ]
  },
  {
   "cell_type": "code",
   "execution_count": 37,
   "id": "ea3d537a-9593-4e91-a62c-80ba3d587d7f",
   "metadata": {},
   "outputs": [
    {
     "data": {
      "text/plain": [
       "Harvest.Year\n",
       "2012    354\n",
       "2014    233\n",
       "2013    181\n",
       "2015    129\n",
       "2016    124\n",
       "2017     70\n",
       "2011     26\n",
       "2010     10\n",
       "2018      1\n",
       "Name: count, dtype: int64"
      ]
     },
     "execution_count": 37,
     "metadata": {},
     "output_type": "execute_result"
    }
   ],
   "source": [
    "# Тъй като това е категорийна променива, можемм да групираме по нея, ама нека видим първо стойности.\n",
    "coffee_data_valid_years[\"Harvest.Year\"].value_counts()"
   ]
  },
  {
   "cell_type": "code",
   "execution_count": 40,
   "id": "352e1778-c153-49e9-9ca4-44e75f927ae5",
   "metadata": {},
   "outputs": [
    {
     "data": {
      "text/plain": [
       "Harvest.Year\n",
       "2012    354\n",
       "2014    233\n",
       "2013    181\n",
       "2015    129\n",
       "2016    124\n",
       "2017     70\n",
       "2011     26\n",
       "2010     10\n",
       "2018      1\n",
       "dtype: int64"
      ]
     },
     "execution_count": 40,
     "metadata": {},
     "output_type": "execute_result"
    }
   ],
   "source": [
    "coffee_data_valid_years.groupby(\"Harvest.Year\").size().sort_values(ascending=False)"
   ]
  },
  {
   "cell_type": "code",
   "execution_count": 41,
   "id": "844e8f1a-f1fb-4386-9a29-57adacb5a7e0",
   "metadata": {},
   "outputs": [],
   "source": [
    "years = coffee_data_valid_years[\"Harvest.Year\"].value_counts().sort_index()"
   ]
  },
  {
   "cell_type": "code",
   "execution_count": 46,
   "id": "4e07bce9-4d01-4aaa-8fdd-61d54e1c6086",
   "metadata": {},
   "outputs": [
    {
     "data": {
      "image/png": "[encoded data removed]",
      "text/plain": [
       "<Figure size 640x480 with 1 Axes>"
      ]
     },
     "metadata": {},
     "output_type": "display_data"
    }
   ],
   "source": [
    "plt.bar(years.index, years)\n",
    "\n",
    "plt.xticks(range(2010, 2019))\n",
    "plt.yticks(range(0, 350, 100))\n",
    "plt.grid()\n",
    "\n",
    "plt.xlabel(\"Years\")\n",
    "plt.ylabel(\"Counts\")\n",
    "\n",
    "plt.title(\"Number of harvested coffee each year\")\n",
    "plt.show()"
   ]
  },
  {
   "cell_type": "markdown",
   "id": "b7357faa-2634-47f8-82ba-dd697dfcd05d",
   "metadata": {},
   "source": [
    "изменение по години може да го направим и като line chart.движение във времето"
   ]
  },
  {
   "cell_type": "code",
   "execution_count": 47,
   "id": "c8dcc2a6-3e91-418a-816c-ff274f238f9b",
   "metadata": {},
   "outputs": [
    {
     "data": {
      "image/png": "[encoded data removed]",
      "text/plain": [
       "<Figure size 640x480 with 1 Axes>"
      ]
     },
     "metadata": {},
     "output_type": "display_data"
    }
   ],
   "source": [
    "plt.plot(years.index, years)\n",
    "\n",
    "plt.xticks(range(2010, 2019))\n",
    "plt.yticks(range(0, 350, 100))\n",
    "\n",
    "plt.xlabel(\"Years\")\n",
    "plt.ylabel(\"Counts\")\n",
    "\n",
    "plt.title(\"Number of harvested coffee each year\")\n",
    "plt.show()"
   ]
  },
  {
   "cell_type": "markdown",
   "id": "e0e54514-cd82-426c-afa3-d5ac703dd344",
   "metadata": {},
   "source": [
    "искаме да видим максимума. Директно хардкодваме"
   ]
  },
  {
   "cell_type": "code",
   "execution_count": 48,
   "id": "4df1b795-6841-4668-bf60-05eceaaf9f20",
   "metadata": {},
   "outputs": [
    {
     "data": {
      "image/png": "[encoded data removed]",
      "text/plain": [
       "<Figure size 640x480 with 1 Axes>"
      ]
     },
     "metadata": {},
     "output_type": "display_data"
    }
   ],
   "source": [
    "plt.plot(years.index, years)\n",
    "\n",
    "plt.scatter(2012, years[2012])\n",
    "\n",
    "plt.xticks(range(2010, 2019))\n",
    "plt.yticks(range(0, 350, 100))\n",
    "\n",
    "plt.xlabel(\"Years\")\n",
    "plt.ylabel(\"Counts\")\n",
    "\n",
    "plt.title(\"Number of harvested coffee each year\")\n",
    "plt.show()"
   ]
  },
  {
   "cell_type": "code",
   "execution_count": 49,
   "id": "e1661190-e35b-4690-bfa3-1a7da4fd2105",
   "metadata": {},
   "outputs": [
    {
     "data": {
      "text/plain": [
       "(354, 2012)"
      ]
     },
     "execution_count": 49,
     "metadata": {},
     "output_type": "execute_result"
    }
   ],
   "source": [
    "years.max(), years.idxmax()"
   ]
  },
  {
   "cell_type": "code",
   "execution_count": 52,
   "id": "3b797efd-b23a-4725-938e-05b4e17fcbfd",
   "metadata": {},
   "outputs": [
    {
     "data": {
      "image/png": "[encoded data removed]",
      "text/plain": [
       "<Figure size 640x480 with 1 Axes>"
      ]
     },
     "metadata": {},
     "output_type": "display_data"
    }
   ],
   "source": [
    "plt.plot(years.index, years)\n",
    "\n",
    "plt.scatter(years.idxmax(), years.max(), marker=\"s\", color=\"Orange\")\n",
    "\n",
    "plt.xticks(range(2010, 2019))\n",
    "plt.yticks(range(0, 350, 100))\n",
    "\n",
    "plt.xlabel(\"Years\")\n",
    "plt.ylabel(\"Counts\")\n",
    "\n",
    "plt.title(\"Number of harvested coffee each year\")\n",
    "plt.show()"
   ]
  },
  {
   "cell_type": "code",
   "execution_count": null,
   "id": "8d376c6f-22c7-475e-b95e-b9df3bda043d",
   "metadata": {},
   "outputs": [],
   "source": []
  }
 ],
 "metadata": {
  "kernelspec": {
   "display_name": "Python 3 (ipykernel)",
   "language": "python",
   "name": "python3"
  },
  "language_info": {
   "codemirror_mode": {
    "name": "ipython",
    "version": 3
   },
   "file_extension": ".py",
   "mimetype": "text/x-python",
   "name": "python",
   "nbconvert_exporter": "python",
   "pygments_lexer": "ipython3",
   "version": "3.11.7"
  }
 },
 "nbformat": 4,
 "nbformat_minor": 5
}
